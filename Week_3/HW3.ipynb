{
 "cells": [
  {
   "cell_type": "markdown",
   "metadata": {},
   "source": [
    "## Homework: Vector Search\n",
    "\n",
    "In this homework, we'll experiemnt with vector with and without Elasticsearch\n",
    "\n",
    "> It's possible that your answers won't match exactly. If it's the case, select the closest one."
   ]
  },
  {
   "cell_type": "markdown",
   "metadata": {},
   "source": [
    "## Q1. Getting the embeddings model\n",
    "\n",
    "First, we will get the embeddings model `multi-qa-distilbert-cos-v1` from\n",
    "[the Sentence Transformer library](https://www.sbert.net/docs/sentence_transformer/pretrained_models.html#model-overview)\n",
    "\n",
    "```bash\n",
    "from sentence_transformers import SentenceTransformer\n",
    "embedding_model = SentenceTransformer(model_name)\n",
    "```\n",
    "\n",
    "Create the embedding for this user question:\n",
    "\n",
    "```python\n",
    "user_question = \"I just discovered the course. Can I still join it?\"\n",
    "```\n",
    "\n",
    "What's the first value of the resulting vector?\n",
    "\n",
    "* -0.24\n",
    "* -0.04\n",
    "* 0.07\n",
    "* 0.27\n"
   ]
  },
  {
   "cell_type": "code",
   "execution_count": 1,
   "metadata": {},
   "outputs": [
    {
     "name": "stderr",
     "output_type": "stream",
     "text": [
      "c:\\Users\\kiramishima\\.conda\\envs\\llm-zcamp\\Lib\\site-packages\\sentence_transformers\\cross_encoder\\CrossEncoder.py:11: TqdmExperimentalWarning: Using `tqdm.autonotebook.tqdm` in notebook mode. Use `tqdm.tqdm` instead to force console mode (e.g. in jupyter console)\n",
      "  from tqdm.autonotebook import tqdm, trange\n"
     ]
    },
    {
     "data": {
      "application/vnd.jupyter.widget-view+json": {
       "model_id": "e8973bb56bb74c2a84be5f6937a345cf",
       "version_major": 2,
       "version_minor": 0
      },
      "text/plain": [
       "modules.json:   0%|          | 0.00/349 [00:00<?, ?B/s]"
      ]
     },
     "metadata": {},
     "output_type": "display_data"
    },
    {
     "data": {
      "application/vnd.jupyter.widget-view+json": {
       "model_id": "ba61867b61ee433ab7bc052fddcd4f4b",
       "version_major": 2,
       "version_minor": 0
      },
      "text/plain": [
       "config_sentence_transformers.json:   0%|          | 0.00/116 [00:00<?, ?B/s]"
      ]
     },
     "metadata": {},
     "output_type": "display_data"
    },
    {
     "data": {
      "application/vnd.jupyter.widget-view+json": {
       "model_id": "4c359a1659374862b103fc6197bbf1f7",
       "version_major": 2,
       "version_minor": 0
      },
      "text/plain": [
       "README.md:   0%|          | 0.00/9.52k [00:00<?, ?B/s]"
      ]
     },
     "metadata": {},
     "output_type": "display_data"
    },
    {
     "data": {
      "application/vnd.jupyter.widget-view+json": {
       "model_id": "21a9afb9de5c434088108e12184785cf",
       "version_major": 2,
       "version_minor": 0
      },
      "text/plain": [
       "sentence_bert_config.json:   0%|          | 0.00/53.0 [00:00<?, ?B/s]"
      ]
     },
     "metadata": {},
     "output_type": "display_data"
    },
    {
     "data": {
      "application/vnd.jupyter.widget-view+json": {
       "model_id": "51f950b470a744269cf651e526b6ebd3",
       "version_major": 2,
       "version_minor": 0
      },
      "text/plain": [
       "config.json:   0%|          | 0.00/523 [00:00<?, ?B/s]"
      ]
     },
     "metadata": {},
     "output_type": "display_data"
    },
    {
     "data": {
      "application/vnd.jupyter.widget-view+json": {
       "model_id": "25a6c0385fe6446d93060e277b8cb95a",
       "version_major": 2,
       "version_minor": 0
      },
      "text/plain": [
       "model.safetensors:   0%|          | 0.00/265M [00:00<?, ?B/s]"
      ]
     },
     "metadata": {},
     "output_type": "display_data"
    },
    {
     "data": {
      "application/vnd.jupyter.widget-view+json": {
       "model_id": "ef0636418770486b930540911d9d995f",
       "version_major": 2,
       "version_minor": 0
      },
      "text/plain": [
       "tokenizer_config.json:   0%|          | 0.00/333 [00:00<?, ?B/s]"
      ]
     },
     "metadata": {},
     "output_type": "display_data"
    },
    {
     "data": {
      "application/vnd.jupyter.widget-view+json": {
       "model_id": "355719b9cac445f89cb4a174c93e00cb",
       "version_major": 2,
       "version_minor": 0
      },
      "text/plain": [
       "vocab.txt:   0%|          | 0.00/232k [00:00<?, ?B/s]"
      ]
     },
     "metadata": {},
     "output_type": "display_data"
    },
    {
     "data": {
      "application/vnd.jupyter.widget-view+json": {
       "model_id": "7f7a9885567e4e1a926d920d8c77f847",
       "version_major": 2,
       "version_minor": 0
      },
      "text/plain": [
       "tokenizer.json:   0%|          | 0.00/466k [00:00<?, ?B/s]"
      ]
     },
     "metadata": {},
     "output_type": "display_data"
    },
    {
     "data": {
      "application/vnd.jupyter.widget-view+json": {
       "model_id": "2925d5b8affc438d8f0d2684030cc317",
       "version_major": 2,
       "version_minor": 0
      },
      "text/plain": [
       "special_tokens_map.json:   0%|          | 0.00/112 [00:00<?, ?B/s]"
      ]
     },
     "metadata": {},
     "output_type": "display_data"
    },
    {
     "data": {
      "application/vnd.jupyter.widget-view+json": {
       "model_id": "2d61b32ca7f0434fab730029a770a53b",
       "version_major": 2,
       "version_minor": 0
      },
      "text/plain": [
       "1_Pooling/config.json:   0%|          | 0.00/190 [00:00<?, ?B/s]"
      ]
     },
     "metadata": {},
     "output_type": "display_data"
    }
   ],
   "source": [
    "from sentence_transformers import SentenceTransformer\n",
    "model_name = 'multi-qa-distilbert-cos-v1'\n",
    "embedding_model = SentenceTransformer(model_name)"
   ]
  },
  {
   "cell_type": "code",
   "execution_count": 2,
   "metadata": {},
   "outputs": [],
   "source": [
    "user_question = \"I just discovered the course. Can I still join it?\""
   ]
  },
  {
   "cell_type": "code",
   "execution_count": 17,
   "metadata": {},
   "outputs": [
    {
     "data": {
      "text/plain": [
       "array([ 7.82226622e-02, -4.01311517e-02,  3.86135913e-02, -1.78982707e-04,\n",
       "        8.92347172e-02, -5.04591577e-02, -1.05026513e-02,  3.71055715e-02,\n",
       "       -4.18714322e-02,  3.48084494e-02, -1.20701753e-02, -2.36942433e-02,\n",
       "        3.87900174e-02,  1.60988811e-02,  3.50747406e-02,  3.04742320e-03,\n",
       "        5.79672381e-02, -4.10627611e-02, -3.41552645e-02, -2.56396662e-02,\n",
       "       -3.55263911e-02,  1.42907826e-02, -1.62799843e-02,  3.21446657e-02,\n",
       "       -4.66897450e-02,  7.89185837e-02,  4.90161069e-02,  1.56761073e-02,\n",
       "       -1.69109758e-02,  2.26482097e-02,  5.60206026e-02, -3.98361608e-02,\n",
       "        6.77410290e-02, -1.20209698e-02,  1.12620974e-03, -1.94393992e-02,\n",
       "       -2.65951566e-02,  1.06177507e-02,  1.69686973e-02,  1.13488063e-02,\n",
       "       -2.97063086e-02,  5.25258295e-02, -1.41453864e-02,  4.61700261e-02,\n",
       "        1.17065832e-02, -2.38053445e-02, -6.32558092e-02, -1.92041826e-02,\n",
       "       -7.10591115e-03,  3.24168019e-02,  2.49618255e-02, -5.27501665e-03,\n",
       "        2.01149154e-02, -3.72371301e-02,  3.46405506e-02, -3.29310372e-02,\n",
       "       -2.01484617e-02,  5.07840700e-03, -4.55506518e-02,  7.89168943e-03,\n",
       "       -4.91713881e-02,  4.69896942e-02, -3.79064613e-06,  2.48839296e-02,\n",
       "       -2.96471454e-02,  6.69759559e-03,  3.58087681e-02, -7.18096877e-03,\n",
       "       -3.03276964e-02,  7.95785710e-03,  3.36150862e-02, -2.25491095e-02,\n",
       "       -3.62098478e-02, -2.03928836e-02, -2.70677730e-03, -8.15981776e-02,\n",
       "       -1.43993096e-02,  4.90568653e-02, -2.11568549e-02,  9.31659422e-04,\n",
       "        6.57264441e-02,  4.69609946e-02,  1.23655070e-02, -2.84593105e-02,\n",
       "       -2.57528573e-02,  1.46926027e-02, -5.53987548e-02, -3.05970106e-02,\n",
       "        5.75574115e-02,  2.81941202e-02, -1.30106974e-02, -2.08615065e-02,\n",
       "       -2.43033636e-02, -2.40275152e-02,  4.11576740e-02, -5.92422821e-02,\n",
       "       -1.69007061e-03,  4.00551967e-02,  2.43852790e-02, -1.10905282e-02,\n",
       "       -2.93892734e-02,  2.01826692e-02,  4.22848249e-03,  2.95343325e-02,\n",
       "        3.16523425e-02,  3.00930105e-02,  8.98853969e-03, -8.30620825e-02,\n",
       "       -2.24144589e-02,  1.82182658e-02, -5.66515625e-02, -4.21271734e-02,\n",
       "        3.27232704e-02, -2.10854243e-02, -4.79224091e-03,  1.90163497e-02,\n",
       "        4.55397777e-02, -9.62485094e-03, -2.30315924e-02, -3.52343209e-02,\n",
       "       -3.91418822e-02, -3.46547849e-02,  2.47355327e-02,  4.71566655e-02,\n",
       "        3.46271098e-02,  5.29963933e-02, -2.86405701e-02, -1.71784777e-02,\n",
       "       -1.30146146e-02, -5.79404570e-02,  3.99250574e-02, -5.88766411e-02,\n",
       "        4.57601696e-02,  2.09622178e-02, -1.52759627e-02,  3.25415134e-02,\n",
       "        2.08252873e-02, -2.48042122e-02, -4.24147137e-02,  2.95954812e-02,\n",
       "       -4.62034307e-02,  3.17028798e-02, -7.64973508e-03,  5.84935583e-03,\n",
       "       -3.90674248e-02,  8.11776333e-03, -3.60446610e-02,  6.34326041e-02,\n",
       "       -4.23138961e-02, -1.57087960e-03,  9.18294583e-03, -2.99421437e-02,\n",
       "       -2.27955319e-02, -9.86715034e-03,  2.94452272e-02,  1.75152794e-02,\n",
       "       -1.93444602e-02,  2.40449868e-02,  2.92802919e-02,  4.78778704e-04,\n",
       "        2.55402699e-02, -3.34960334e-02,  3.04799769e-02, -9.45274532e-03,\n",
       "        3.35257202e-02,  5.77760562e-02, -1.58551168e-02, -7.15148300e-02,\n",
       "        6.71678339e-04, -7.77694816e-03, -5.37220389e-02, -1.58578977e-02,\n",
       "        2.93348767e-02, -5.35059646e-02, -2.82784924e-02, -3.81728932e-02,\n",
       "        1.05942099e-03,  3.31666251e-03,  2.60325167e-02, -2.05704141e-02,\n",
       "       -2.55043916e-02, -2.73665506e-02,  2.12152898e-02, -3.17961797e-02,\n",
       "       -2.71619279e-02, -3.00257094e-02, -5.35569824e-02,  1.62939597e-02,\n",
       "        2.55572819e-03,  7.67827928e-02,  3.24226469e-02,  3.80413868e-02,\n",
       "       -2.25355383e-02, -4.81642000e-02,  2.26790439e-02,  1.25548737e-02,\n",
       "       -4.78155911e-02,  4.13825959e-02, -9.52939969e-03,  3.37111056e-02,\n",
       "        3.21243256e-02,  5.91824800e-02, -7.25298077e-02, -7.38687534e-03,\n",
       "       -3.22184339e-02,  3.09309103e-02,  5.23214303e-02,  3.24243866e-02,\n",
       "       -3.95455398e-02, -2.63985563e-02, -2.35443152e-02,  2.39193952e-03,\n",
       "        3.20997201e-02,  8.44294671e-03,  9.85343195e-03,  1.95927583e-02,\n",
       "        3.99371795e-02,  4.52750325e-02,  3.52183692e-02,  1.67367700e-02,\n",
       "        2.65721027e-02, -8.88594054e-03, -1.27367210e-02, -5.89371175e-02,\n",
       "       -2.89509650e-02,  2.18168031e-02, -4.62896526e-02, -5.12742391e-03,\n",
       "       -2.73846276e-02, -4.35681045e-02, -3.33959796e-02,  2.61664926e-03,\n",
       "        6.77051917e-02, -6.68668561e-03,  4.25815769e-02, -8.47997516e-03,\n",
       "       -4.45970036e-02, -4.92077023e-02,  2.54241582e-02,  3.41309384e-02,\n",
       "        4.66176644e-02,  3.41222361e-02, -3.89920548e-02,  6.68450668e-02,\n",
       "        6.32637739e-02, -1.53560769e-02, -6.43528299e-04,  1.88045204e-02,\n",
       "        1.10457623e-02, -2.76161376e-02,  4.89471778e-02, -6.65619150e-02,\n",
       "        4.41559311e-03, -8.06402881e-03, -7.56582990e-02,  5.20581566e-02,\n",
       "       -1.68674700e-02, -1.51841175e-02,  2.59556212e-02,  4.38799243e-03,\n",
       "        1.29939858e-02,  2.37957928e-02, -3.92605513e-02,  3.40806018e-03,\n",
       "       -4.65255454e-02, -5.80669120e-02, -4.86324281e-02,  3.85592878e-02,\n",
       "        1.58163533e-02, -3.55917998e-02, -6.13348819e-02, -4.66559306e-02,\n",
       "        3.48288976e-02, -3.00835166e-02, -3.80521715e-02,  5.35570830e-02,\n",
       "       -4.42222878e-02, -4.11476791e-02,  2.34690309e-02,  4.05001629e-05,\n",
       "       -2.18803482e-03, -2.06341757e-03, -4.33782600e-02, -6.21996820e-04,\n",
       "       -4.64339666e-02,  8.27862918e-02, -1.49072716e-02,  3.24270688e-02,\n",
       "        1.35792652e-02, -1.49166887e-03,  8.62602517e-02,  6.92182705e-02,\n",
       "        4.57403250e-03,  3.55517678e-03,  6.91157356e-02, -9.68691111e-02,\n",
       "        3.21001001e-02, -1.90142542e-02,  7.19640478e-02,  7.18858689e-02,\n",
       "        2.10938994e-02, -8.37233441e-04, -2.27937084e-02,  1.27857355e-02,\n",
       "        9.23394337e-02, -5.41783869e-02,  4.61494066e-02, -7.08944816e-03,\n",
       "       -3.20987180e-02, -3.81699614e-02, -4.22405601e-02,  5.16356267e-02,\n",
       "        1.07125174e-02, -5.59868850e-02, -2.29028501e-02,  3.15916501e-02,\n",
       "       -5.60135208e-02,  1.22199384e-02, -1.85765531e-02, -3.86153837e-03,\n",
       "        5.66245690e-02,  3.09959948e-02,  3.28162499e-02,  5.95071353e-02,\n",
       "       -1.15265585e-02,  2.45990995e-02,  1.98688754e-03,  3.61350514e-02,\n",
       "        7.19022229e-02,  6.74676802e-03, -2.22809128e-02,  3.80802788e-02,\n",
       "       -3.19979079e-02,  4.77899760e-02, -4.88461964e-02, -2.62966249e-02,\n",
       "       -9.14800260e-03, -3.70225273e-02, -2.10672896e-02,  3.66252325e-02,\n",
       "       -2.93567940e-03,  1.90015566e-02, -4.06738780e-02, -9.88849346e-03,\n",
       "       -1.32070007e-02, -1.84205733e-02, -3.04457080e-02, -1.17648058e-02,\n",
       "       -2.16220450e-02, -1.32907927e-02, -4.90810648e-02,  3.75495516e-02,\n",
       "        2.36799344e-02,  6.20988803e-03,  1.94518622e-02,  1.11170998e-02,\n",
       "       -1.27271274e-02, -1.16941165e-02, -4.15579081e-02,  3.03730881e-03,\n",
       "        3.35785635e-02,  2.02150941e-02, -5.23533672e-02, -1.03417793e-02,\n",
       "       -3.44100595e-02, -1.83594953e-02,  1.93087629e-03,  3.44448462e-02,\n",
       "       -2.83048227e-02,  7.25739822e-03,  5.40008917e-02, -2.32120492e-02,\n",
       "       -2.37848852e-02,  5.14849741e-03, -1.04726879e-02, -3.04511376e-02,\n",
       "       -1.45227872e-02,  5.83772101e-02,  6.24929089e-03,  1.76533740e-02,\n",
       "        2.71377880e-02, -2.07602661e-02, -4.82955715e-03,  4.38607596e-02,\n",
       "        4.89790551e-02, -1.84726361e-02,  2.23985333e-02,  2.48786993e-02,\n",
       "       -7.83603638e-03,  2.70838663e-02,  8.69912803e-02,  5.14607802e-02,\n",
       "        2.68816464e-02, -2.45199036e-02,  1.98570881e-02,  2.55422927e-02,\n",
       "       -4.49709520e-02,  1.18260058e-02, -5.71240336e-02,  6.86877817e-02,\n",
       "        2.32738629e-02,  4.34287228e-02,  1.60184056e-02,  3.36551443e-02,\n",
       "        1.18744820e-02,  1.84787288e-02,  2.18717493e-02,  8.06101598e-03,\n",
       "        2.65186895e-02, -1.67910960e-02, -1.14257671e-02,  5.79696037e-02,\n",
       "        2.19955947e-02, -7.88592026e-02,  4.26271185e-02, -7.00563267e-02,\n",
       "        5.12131937e-02,  2.96157636e-02,  4.99608144e-02,  9.40513052e-03,\n",
       "       -4.73498590e-02,  4.21217456e-02, -1.81927122e-02, -7.69211352e-02,\n",
       "        9.72864497e-03, -6.79067522e-02,  1.55991735e-02,  2.72872765e-02,\n",
       "        4.54441318e-03, -2.10021855e-03,  7.53396899e-02,  1.33479794e-03,\n",
       "       -1.99395027e-02, -5.24484590e-02,  3.05674295e-03,  1.98292136e-02,\n",
       "        2.39940509e-02,  1.24236019e-02,  1.47050209e-02,  1.03529412e-02,\n",
       "       -4.38815020e-02,  4.75225560e-02,  3.21549103e-02,  6.52128540e-04,\n",
       "       -2.02529728e-02,  4.32258733e-02, -2.71596853e-02,  1.38091845e-02,\n",
       "       -3.86391729e-02,  2.84993332e-02, -2.27450416e-03,  3.99671793e-02,\n",
       "        1.53477211e-02,  1.32415788e-02, -7.11276531e-02,  3.93648706e-02,\n",
       "        2.51131672e-02, -2.36388333e-02,  1.80941354e-02, -2.43954491e-02,\n",
       "        2.19316571e-03,  3.75051759e-02,  1.56092132e-02,  7.14067044e-03,\n",
       "       -3.41359787e-02,  7.57618109e-03,  2.62274500e-02,  1.14289606e-02,\n",
       "        3.52655612e-02,  2.13689264e-03, -4.56283567e-03, -2.63882503e-02,\n",
       "        6.55588657e-02,  6.00263737e-02, -3.54714543e-02, -1.01350788e-02,\n",
       "        2.56269220e-02, -1.02697156e-01,  3.54785509e-02, -6.22319281e-02,\n",
       "       -1.14733847e-02, -3.44268326e-03,  1.05506752e-03, -2.81983148e-03,\n",
       "        6.26723096e-02, -4.57265638e-02,  1.70462895e-02, -8.05482566e-02,\n",
       "        1.55107873e-02, -2.58680288e-04,  2.01546997e-02,  8.79566465e-03,\n",
       "        2.62557752e-02,  8.31543759e-04, -3.23720127e-02, -5.27926050e-02,\n",
       "        1.55638680e-02,  1.15739247e-02, -2.99567520e-03, -8.24660901e-03,\n",
       "       -3.26189213e-02, -7.73414671e-02, -4.12966758e-02, -2.21012626e-02,\n",
       "        4.75403806e-03, -1.25991413e-02,  1.07523445e-02,  4.99581732e-02,\n",
       "        2.15218421e-02,  2.69318018e-02,  3.28039005e-02,  7.46343518e-03,\n",
       "        1.83877107e-02, -2.74957903e-02, -9.13315825e-03, -1.22790681e-02,\n",
       "        2.07576305e-02,  1.40681993e-02,  1.09914029e-02, -2.26452276e-02,\n",
       "        6.41365945e-02, -1.79607980e-02, -4.23230268e-02, -1.88530842e-03,\n",
       "       -3.59299667e-02,  1.20294141e-02,  1.00361342e-02,  6.56100437e-02,\n",
       "        2.87166033e-02,  2.78465282e-02, -5.23849763e-02,  3.18163373e-02,\n",
       "       -4.65675816e-02,  1.38316732e-02,  2.83224620e-02,  7.78383203e-03,\n",
       "       -9.74423159e-03, -3.97436023e-02, -2.49803755e-02, -2.32911315e-02,\n",
       "       -2.11588591e-02, -6.84602698e-03, -1.95435025e-02, -2.29271892e-02,\n",
       "       -1.46510135e-02, -2.22448595e-02, -1.09536406e-02, -3.67134623e-02,\n",
       "       -1.84324831e-02, -1.04103284e-02, -8.88099708e-03, -1.47620970e-02,\n",
       "       -2.92523801e-02,  1.00569353e-02,  2.28201076e-02,  1.42327440e-03,\n",
       "       -2.35474911e-02, -2.39605568e-02,  5.40141352e-02, -2.16813050e-02,\n",
       "        1.94904692e-02, -3.11479233e-02, -1.54089844e-02, -1.45636136e-02,\n",
       "        5.81609942e-02,  3.05503402e-02, -5.09662973e-03, -1.68099813e-02,\n",
       "       -3.46655510e-02, -2.07241420e-02, -4.60087694e-02,  2.22175987e-03,\n",
       "       -4.44852561e-02,  1.13986572e-02,  3.25434320e-02, -7.11341426e-02,\n",
       "       -2.52612587e-02, -1.93929132e-02,  1.29123395e-02, -3.82378884e-02,\n",
       "       -1.61821116e-02,  3.58506888e-02,  5.04317321e-02, -4.06112568e-03,\n",
       "        1.62504259e-02, -7.24662095e-02,  2.72171870e-02,  1.78223178e-02,\n",
       "        1.37028852e-02,  2.36819908e-02,  2.59892773e-02,  4.08842973e-02,\n",
       "        6.46981690e-03, -1.15187811e-02, -2.65878923e-02,  9.67550371e-03,\n",
       "       -5.31225801e-02,  8.27153504e-04,  1.87265910e-02, -2.92988215e-03,\n",
       "        2.49404982e-02, -1.47512481e-02,  1.41259516e-02,  4.05030288e-02,\n",
       "       -1.27288410e-02, -6.76722378e-02,  4.83829640e-02,  4.07700315e-02,\n",
       "        1.98605489e-02,  3.03293522e-02,  2.63721198e-02,  5.23594394e-02,\n",
       "       -3.34631167e-02, -9.35078599e-03,  1.69177447e-02,  4.34683785e-02,\n",
       "        3.83584723e-02,  4.47562374e-02,  1.90879423e-02, -1.47993490e-02,\n",
       "       -4.34137415e-03,  1.08403470e-02,  4.95932903e-03, -1.63312200e-02,\n",
       "       -1.97146903e-03, -4.17675190e-02,  6.56751096e-02, -6.79403320e-02,\n",
       "        4.33395058e-03, -1.69463381e-02,  2.51758751e-02,  2.56763771e-02,\n",
       "        1.15079642e-03, -1.54735371e-02, -7.34510273e-03, -5.32572418e-02,\n",
       "        3.48774437e-03, -1.38180209e-02, -5.89081943e-02,  2.92867678e-03,\n",
       "        5.04819080e-02,  3.35812476e-03, -8.88556391e-02, -3.84001024e-02,\n",
       "       -2.22147740e-02, -2.82134321e-02, -5.42563992e-03,  2.85600908e-02,\n",
       "       -4.50810492e-02,  7.93287589e-04,  8.93172324e-02,  1.16104996e-02,\n",
       "       -3.18008400e-02,  2.66568121e-02,  2.71802824e-02,  1.89267434e-02,\n",
       "       -2.06058286e-02, -3.02396435e-02, -2.85009909e-02, -3.13029550e-02,\n",
       "       -1.97963156e-02, -6.64773071e-03, -1.67978387e-02, -1.99807808e-02,\n",
       "       -5.34575954e-02, -4.45716723e-04, -2.96823084e-02,  4.37867381e-02,\n",
       "       -1.00503974e-02, -1.09997233e-02,  2.21026074e-02, -3.46548855e-02,\n",
       "        2.11835708e-02,  1.56232873e-02,  2.64695380e-02, -2.34831348e-02,\n",
       "        2.44938154e-02,  4.38888110e-02,  7.06146285e-03, -1.21593447e-02,\n",
       "        1.87902153e-02, -6.91953488e-03,  1.30047631e-02,  1.27160912e-02,\n",
       "       -2.23634578e-03,  2.10030489e-02,  6.99695796e-02,  3.16452198e-02,\n",
       "       -2.35833079e-02,  4.63551469e-03, -6.60422491e-03, -3.26112472e-02,\n",
       "        7.33723193e-02, -8.55091065e-02, -4.05770615e-02,  2.57487334e-02,\n",
       "       -5.12588806e-02,  6.70370013e-02, -1.24506224e-02, -8.91839042e-02,\n",
       "        5.48583195e-02, -4.54949960e-02, -3.45565155e-02, -7.73074925e-02,\n",
       "        4.11657803e-02, -4.30639498e-02,  2.70703249e-02,  3.20439897e-02,\n",
       "       -4.77702059e-02, -1.56586263e-02,  1.72707196e-02, -5.23966998e-02,\n",
       "       -7.17989802e-02,  4.30009747e-03,  7.25779610e-05,  5.29346615e-02,\n",
       "       -3.14253196e-02,  1.90561153e-02,  2.56206430e-02,  7.90970176e-02,\n",
       "        2.13809628e-02, -2.44315472e-02, -1.42573128e-02,  3.64166759e-02,\n",
       "        4.89886850e-02,  2.09607761e-02, -4.13179100e-02,  4.09341082e-02,\n",
       "       -1.21459857e-01,  6.68874457e-02, -3.10826261e-04, -6.26348564e-03,\n",
       "        3.98600586e-02,  5.48594594e-02, -1.15817964e-01,  5.31956516e-02,\n",
       "       -4.32696566e-02,  4.33376282e-02,  2.90152822e-02, -8.89771432e-02,\n",
       "       -2.17882376e-02,  1.54281100e-02,  3.62119637e-02, -9.14942324e-02,\n",
       "       -3.93844442e-03, -3.60860415e-02, -7.26094004e-03,  8.90836027e-03,\n",
       "       -5.32953851e-02,  3.61573175e-02,  8.56206417e-02, -1.42062046e-02,\n",
       "        2.44349279e-02,  1.94478291e-03,  5.81037663e-02, -2.16630902e-02,\n",
       "        2.43256167e-02, -2.31526187e-03, -1.37545646e-03,  5.89746460e-02,\n",
       "        8.06516595e-03, -5.71864564e-03,  2.14907583e-02, -2.76927501e-02,\n",
       "       -3.97252329e-02,  3.13828029e-02,  1.40226795e-03,  5.06811030e-02],\n",
       "      dtype=float32)"
      ]
     },
     "execution_count": 17,
     "metadata": {},
     "output_type": "execute_result"
    }
   ],
   "source": [
    "v = embedding_model.encode(user_question)\n",
    "v"
   ]
  },
  {
   "cell_type": "markdown",
   "metadata": {},
   "source": [
    "## Prepare the documents\n",
    "\n",
    "Now we will create the embeddings for the documents.\n",
    "\n",
    "Load the documents with ids that we prepared in the module:\n",
    "\n",
    "```python\n",
    "import requests \n",
    "\n",
    "base_url = 'https://github.com/DataTalksClub/llm-zoomcamp/blob/main'\n",
    "relative_url = '03-vector-search/eval/documents-with-ids.json'\n",
    "docs_url = f'{base_url}/{relative_url}?raw=1'\n",
    "docs_response = requests.get(docs_url)\n",
    "documents = docs_response.json()\n",
    "```\n",
    "\n",
    "We will use only a subset of the questions - the questions\n",
    "for `\"machine-learning-zoomcamp\"`. After filtering, you should\n",
    "have only 375 documents"
   ]
  },
  {
   "cell_type": "code",
   "execution_count": 4,
   "metadata": {},
   "outputs": [],
   "source": [
    "import requests \n",
    "\n",
    "base_url = 'https://github.com/DataTalksClub/llm-zoomcamp/blob/main'\n",
    "relative_url = '03-vector-search/eval/documents-with-ids.json'\n",
    "docs_url = f'{base_url}/{relative_url}?raw=1'\n",
    "docs_response = requests.get(docs_url)\n",
    "documents = docs_response.json()"
   ]
  },
  {
   "cell_type": "code",
   "execution_count": 8,
   "metadata": {},
   "outputs": [],
   "source": [
    "filter_docs = []\n",
    "for doc in documents:\n",
    "    if doc['course'] == 'machine-learning-zoomcamp':\n",
    "        filter_docs.append(doc)"
   ]
  },
  {
   "cell_type": "code",
   "execution_count": 10,
   "metadata": {},
   "outputs": [
    {
     "data": {
      "text/plain": [
       "375"
      ]
     },
     "execution_count": 10,
     "metadata": {},
     "output_type": "execute_result"
    }
   ],
   "source": [
    "len(filter_docs)"
   ]
  },
  {
   "cell_type": "markdown",
   "metadata": {},
   "source": [
    "## Q2. Creating the embeddings\n",
    "\n",
    "Now for each document, we will create an embedding for both question and answer fields.\n",
    "\n",
    "We want to put all of them into a single matrix `X`:\n",
    "\n",
    "- Create a list `embeddings` \n",
    "- Iterate over each document \n",
    "- `qa_text = f'{question} {text}'`\n",
    "- compute the embedding for `qa_text`, append to `embeddings`\n",
    "- At the end, let `X = np.array(embeddings)` (`import numpy as np`) \n",
    "\n",
    "What's the shape of X? (`X.shape`). Include the parantheses. "
   ]
  },
  {
   "cell_type": "code",
   "execution_count": 50,
   "metadata": {},
   "outputs": [],
   "source": [
    "import numpy as np\n",
    "from tqdm.notebook import tqdm\n",
    "embeddings = []\n",
    "embedded_documents = []"
   ]
  },
  {
   "cell_type": "code",
   "execution_count": 51,
   "metadata": {},
   "outputs": [
    {
     "data": {
      "application/vnd.jupyter.widget-view+json": {
       "model_id": "a962f4046fd24b3a8860155a1083e866",
       "version_major": 2,
       "version_minor": 0
      },
      "text/plain": [
       "  0%|          | 0/375 [00:00<?, ?it/s]"
      ]
     },
     "metadata": {},
     "output_type": "display_data"
    }
   ],
   "source": [
    "for doc in tqdm(filter_docs):\n",
    "    question = doc['question']\n",
    "    text = doc['text']\n",
    "    qa_text = f'{question} {text}'\n",
    "    doc[\"qa_embedding\"] = embedding_model.encode(qa_text)\n",
    "    embeddings.append(doc[\"qa_embedding\"])\n",
    "    embedded_documents.append(doc)"
   ]
  },
  {
   "cell_type": "code",
   "execution_count": 15,
   "metadata": {},
   "outputs": [],
   "source": [
    "X = np.array(embeddings)"
   ]
  },
  {
   "cell_type": "code",
   "execution_count": 16,
   "metadata": {},
   "outputs": [
    {
     "data": {
      "text/plain": [
       "(375, 768)"
      ]
     },
     "execution_count": 16,
     "metadata": {},
     "output_type": "execute_result"
    }
   ],
   "source": [
    "X.shape"
   ]
  },
  {
   "cell_type": "markdown",
   "metadata": {},
   "source": [
    "## Q3. Search\n",
    "\n",
    "We have the embeddings and the query vector. Now let's compute the \n",
    "cosine similarity between the vector from Q1 (let's call it `v`) and the matrix from Q2. \n",
    "\n",
    "The vectors returned from the embedding model are already\n",
    "normalized (you can check it by computing a dot product of a vector\n",
    "with itself - it should return something very close to 1.0). This means that in order\n",
    "to compute the coside similarity, it's sufficient to \n",
    "multiply the matrix `X` by the vector `v`:\n",
    "\n",
    "\n",
    "```python\n",
    "scores = X.dot(v)\n",
    "```\n",
    "\n",
    "What's the highest score in the results?\n",
    "\n",
    "- 65.0 \n",
    "- 6.5\n",
    "- 0.65\n",
    "- 0.065"
   ]
  },
  {
   "cell_type": "code",
   "execution_count": 20,
   "metadata": {},
   "outputs": [
    {
     "data": {
      "application/vnd.jupyter.widget-view+json": {
       "model_id": "95d36a43114545438e4301a44da91ab4",
       "version_major": 2,
       "version_minor": 0
      },
      "text/plain": [
       "  0%|          | 0/375 [00:00<?, ?it/s]"
      ]
     },
     "metadata": {},
     "output_type": "display_data"
    }
   ],
   "source": [
    "results = []\n",
    "for emb in tqdm(embeddings):\n",
    "    results.append(emb.dot(v))"
   ]
  },
  {
   "cell_type": "code",
   "execution_count": 21,
   "metadata": {},
   "outputs": [
    {
     "data": {
      "text/plain": [
       "0.65065724"
      ]
     },
     "execution_count": 21,
     "metadata": {},
     "output_type": "execute_result"
    }
   ],
   "source": [
    "max(results)"
   ]
  },
  {
   "cell_type": "markdown",
   "metadata": {},
   "source": [
    "## Vector search\n",
    "\n",
    "We can now compute the similarity between a query vector and all the embeddings.\n",
    "\n",
    "Let's use this to implement our own vector search\n",
    "\n",
    "```python\n",
    "class VectorSearchEngine():\n",
    "    def __init__(self, documents, embeddings):\n",
    "        self.documents = documents\n",
    "        self.embeddings = embeddings\n",
    "\n",
    "    def search(self, v_query, num_results=10):\n",
    "        scores = self.embeddings.dot(v_query)\n",
    "        idx = np.argsort(-scores)[:num_results]\n",
    "        return [self.documents[i] for i in idx]\n",
    "\n",
    "search_engine = VectorSearchEngine(documents=documents, embeddings=X)\n",
    "search_engine.search(v, num_results=5)\n",
    "```\n",
    "\n",
    "If you don't understand how the `search` function work:\n",
    "\n",
    "* Ask ChatGTP or any other LLM of your choice to explain the code\n",
    "* Check our pre-course workshop about implementing a search engine [here](https://github.com/alexeygrigorev/build-your-own-search-engine)\n",
    "\n",
    "(Note: you can replace `argsort` with `argpartition` to make it a lot faster)"
   ]
  },
  {
   "cell_type": "code",
   "execution_count": 37,
   "metadata": {},
   "outputs": [
    {
     "data": {
      "text/plain": [
       "[{'text': 'Yes, you can. You won’t be able to submit some of the homeworks, but you can still take part in the course.\\nIn order to get a certificate, you need to submit 2 out of 3 course projects and review 3 peers’ Projects by the deadline. It means that if you join the course at the end of November and manage to work on two projects, you will still be eligible for a certificate.',\n",
       "  'section': 'General course-related questions',\n",
       "  'question': 'The course has already started. Can I still join it?',\n",
       "  'course': 'machine-learning-zoomcamp',\n",
       "  'id': 'ee58a693'},\n",
       " {'text': 'Welcome to the course! Go to the course page (http://mlzoomcamp.com/), scroll down and start going through the course materials. Then read everything in the cohort folder for your cohort’s year.\\nClick on the links and start watching the videos. Also watch office hours from previous cohorts. Go to DTC youtube channel and click on Playlists and search for {course yyyy}. ML Zoomcamp was first launched in 2021.\\nOr you can just use this link: http://mlzoomcamp.com/#syllabus',\n",
       "  'section': 'General course-related questions',\n",
       "  'question': 'I just joined. What should I do next? How can I access course materials?',\n",
       "  'course': 'machine-learning-zoomcamp',\n",
       "  'id': '0a278fb2'},\n",
       " {'text': \"The process is automated now, so you should receive the email eventually. If you haven’t, check your promotions tab in Gmail as well as spam.\\nIf you unsubscribed from our newsletter, you won't get course related updates too.\\nBut don't worry, it’s not a problem. To make sure you don’t miss anything, join the #course-ml-zoomcamp channel in Slack and our telegram channel with announcements. This is enough to follow the course.\",\n",
       "  'section': 'General course-related questions',\n",
       "  'question': \"I filled the form, but haven't received a confirmation email. Is it normal?\",\n",
       "  'course': 'machine-learning-zoomcamp',\n",
       "  'id': '6ba259b1'},\n",
       " {'text': 'Technically, yes. Advisable? Not really. Reasons:\\nSome homework(s) asks for specific python library versions.\\nAnswers may not match in MCQ options if using different languages other than Python 3.10 (the recommended version for 2023 cohort)\\nAnd as for midterms/capstones, your peer-reviewers may not know these other languages. Do you want to be penalized for others not knowing these other languages?\\nYou can create a separate repo using course’s lessons but written in other languages for your own learnings, but not advisable for submissions.\\ntx[source]',\n",
       "  'section': 'Miscellaneous',\n",
       "  'question': 'Can I do the course in other languages, like R or Scala?',\n",
       "  'course': 'machine-learning-zoomcamp',\n",
       "  'id': '9f261648'},\n",
       " {'text': 'We won’t re-record the course videos. The focus of the course and the skills we want to teach remained the same, and the videos are still up-to-date.\\nIf you haven’t taken part in the previous iteration, you can start watching the videos. It’ll be useful for you and you will learn new things. However, we recommend using Python 3.10 now instead of Python 3.8.',\n",
       "  'section': 'General course-related questions',\n",
       "  'question': 'The course videos are from the previous iteration. Will you release new ones or we’ll use the videos from 2021?',\n",
       "  'course': 'machine-learning-zoomcamp',\n",
       "  'id': 'e7ba6b8a'}]"
      ]
     },
     "execution_count": 37,
     "metadata": {},
     "output_type": "execute_result"
    }
   ],
   "source": [
    "class VectorSearchEngine():\n",
    "    def __init__(self, documents, embeddings):\n",
    "        self.documents = documents\n",
    "        self.embeddings = embeddings\n",
    "\n",
    "    def search(self, v_query, num_results=10):\n",
    "        scores = self.embeddings.dot(v_query)\n",
    "        idx = np.argsort(-scores)[:num_results]\n",
    "        return [self.documents[i] for i in idx]\n",
    "\n",
    "search_engine = VectorSearchEngine(documents=filter_docs, embeddings=X)\n",
    "search_engine.search(v, num_results=5)"
   ]
  },
  {
   "cell_type": "markdown",
   "metadata": {},
   "source": [
    "## Q4. Hit-rate for our search engine\n",
    "\n",
    "Let's evaluate the performance of our own search engine. We will\n",
    "use the hitrate metric for evaluation.\n",
    "\n",
    "First, load the ground truth dataset:\n",
    "\n",
    "```python\n",
    "import pandas as pd\n",
    "\n",
    "base_url = 'https://github.com/DataTalksClub/llm-zoomcamp/blob/main'\n",
    "relative_url = '03-vector-search/eval/ground-truth-data.csv'\n",
    "ground_truth_url = f'{base_url}/{relative_url}?raw=1'\n",
    "\n",
    "df_ground_truth = pd.read_csv(ground_truth_url)\n",
    "df_ground_truth = df_ground_truth[df_ground_truth.course == 'machine-learning-zoomcamp']\n",
    "ground_truth = df_ground_truth.to_dict(orient='records')\n",
    "```\n",
    "\n",
    "Now use the code from the module to calculate the hitrate of\n",
    "`VectorSearchEngine` with `num_results=5`.\n",
    "\n",
    "What did you get?\n",
    "\n",
    "* 0.93\n",
    "* 0.73\n",
    "* 0.53\n",
    "* 0.33"
   ]
  },
  {
   "cell_type": "code",
   "execution_count": 23,
   "metadata": {},
   "outputs": [],
   "source": [
    "import pandas as pd\n",
    "\n",
    "base_url = 'https://github.com/DataTalksClub/llm-zoomcamp/blob/main'\n",
    "relative_url = '03-vector-search/eval/ground-truth-data.csv'\n",
    "ground_truth_url = f'{base_url}/{relative_url}?raw=1'\n",
    "\n",
    "df_ground_truth = pd.read_csv(ground_truth_url)\n",
    "df_ground_truth = df_ground_truth[df_ground_truth.course == 'machine-learning-zoomcamp']\n",
    "ground_truth = df_ground_truth.to_dict(orient='records')"
   ]
  },
  {
   "cell_type": "code",
   "execution_count": 72,
   "metadata": {},
   "outputs": [
    {
     "data": {
      "text/plain": [
       "{'question': 'Where can I sign up for the course?',\n",
       " 'course': 'machine-learning-zoomcamp',\n",
       " 'document': '0227b872'}"
      ]
     },
     "execution_count": 72,
     "metadata": {},
     "output_type": "execute_result"
    }
   ],
   "source": [
    "ground_truth[0]"
   ]
  },
  {
   "cell_type": "code",
   "execution_count": 75,
   "metadata": {},
   "outputs": [
    {
     "data": {
      "text/plain": [
       "dict_keys(['text', 'section', 'question', 'course', 'id', 'qa_embedding'])"
      ]
     },
     "execution_count": 75,
     "metadata": {},
     "output_type": "execute_result"
    }
   ],
   "source": [
    "filter_docs[0].keys()"
   ]
  },
  {
   "cell_type": "code",
   "execution_count": 25,
   "metadata": {},
   "outputs": [],
   "source": [
    "def hit_rate(relevance_total):\n",
    "    cnt = 0\n",
    "\n",
    "    for line in relevance_total:\n",
    "        if True in line:\n",
    "            cnt = cnt + 1\n",
    "\n",
    "    return cnt / len(relevance_total)"
   ]
  },
  {
   "cell_type": "code",
   "execution_count": 48,
   "metadata": {},
   "outputs": [],
   "source": [
    "def evaluate(ground_truth, search_engine):\n",
    "    relevance_total = []\n",
    "\n",
    "    for q in tqdm(ground_truth):\n",
    "        doc_id = q['document']\n",
    "        question = q['question']\n",
    "        question_vector = embedding_model.encode(question)\n",
    "        results = search_engine.search(question_vector, num_results=5)\n",
    "        \n",
    "        relevance = [d['id'] == doc_id for d in results]\n",
    "        relevance_total.append(relevance)\n",
    "\n",
    "    return {\n",
    "        'hit_rate': hit_rate(relevance_total)\n",
    "    }"
   ]
  },
  {
   "cell_type": "code",
   "execution_count": 49,
   "metadata": {},
   "outputs": [
    {
     "data": {
      "text/plain": [
       "{'hit_rate': 0.9398907103825137}"
      ]
     },
     "execution_count": 49,
     "metadata": {},
     "output_type": "execute_result"
    }
   ],
   "source": [
    "evaluate(ground_truth, search_engine)\n"
   ]
  },
  {
   "cell_type": "markdown",
   "metadata": {},
   "source": [
    "## Q5. Indexing with Elasticsearch\n",
    "\n",
    "Now let's index these documents with elasticsearch\n",
    "\n",
    "* Create the index with the same settings as in the module (but change the dimensions)\n",
    "* Index the embeddings (note: you've already computed them)\n",
    "\n",
    "After indexing, let's perform the search of the same query from Q1.\n",
    "\n",
    "What's the ID of the document with the highest score?"
   ]
  },
  {
   "cell_type": "code",
   "execution_count": 78,
   "metadata": {},
   "outputs": [
    {
     "data": {
      "text/plain": [
       "ObjectApiResponse({'name': 'f70cc1e4d8cd', 'cluster_name': 'docker-cluster', 'cluster_uuid': 'rbCf9ni3S1qprRV69Lcp7w', 'version': {'number': '8.4.3', 'build_flavor': 'default', 'build_type': 'docker', 'build_hash': '42f05b9372a9a4a470db3b52817899b99a76ee73', 'build_date': '2022-10-04T07:17:24.662462378Z', 'build_snapshot': False, 'lucene_version': '9.3.0', 'minimum_wire_compatibility_version': '7.17.0', 'minimum_index_compatibility_version': '7.0.0'}, 'tagline': 'You Know, for Search'})"
      ]
     },
     "execution_count": 78,
     "metadata": {},
     "output_type": "execute_result"
    }
   ],
   "source": [
    "from elasticsearch import Elasticsearch\n",
    "es_client = Elasticsearch('http://localhost:9200') \n",
    "\n",
    "es_client.info()"
   ]
  },
  {
   "cell_type": "code",
   "execution_count": 79,
   "metadata": {},
   "outputs": [],
   "source": [
    "index_settings = {\n",
    "    \"settings\": {\n",
    "        \"number_of_shards\": 1,\n",
    "        \"number_of_replicas\": 0\n",
    "    },\n",
    "    \"mappings\": {\n",
    "        \"properties\": {\n",
    "            \"text\": {\"type\": \"text\"},\n",
    "            \"id\": {\"type\": \"keyword\"},\n",
    "            \"section\": {\"type\": \"text\"},\n",
    "            \"question\": {\"type\": \"text\"},\n",
    "            \"course\": {\"type\": \"keyword\"} ,\n",
    "            \"qa_embedding\": {\n",
    "                \"type\": \"dense_vector\",\n",
    "                \"dims\": 768,\n",
    "                \"index\": True,\n",
    "                \"similarity\":\n",
    "                \"cosine\"\n",
    "            },\n",
    "        }\n",
    "    }\n",
    "}"
   ]
  },
  {
   "cell_type": "code",
   "execution_count": 80,
   "metadata": {},
   "outputs": [
    {
     "data": {
      "text/plain": [
       "ObjectApiResponse({'acknowledged': True, 'shards_acknowledged': True, 'index': 'course-questions-hw3'})"
      ]
     },
     "execution_count": 80,
     "metadata": {},
     "output_type": "execute_result"
    }
   ],
   "source": [
    "index_name = \"course-questions-hw3\"\n",
    "\n",
    "es_client.indices.delete(index=index_name, ignore_unavailable=True)\n",
    "es_client.indices.create(index=index_name, body=index_settings)"
   ]
  },
  {
   "cell_type": "code",
   "execution_count": 81,
   "metadata": {},
   "outputs": [
    {
     "data": {
      "text/plain": [
       "dict_keys(['text', 'section', 'question', 'course', 'id', 'qa_embedding'])"
      ]
     },
     "execution_count": 81,
     "metadata": {},
     "output_type": "execute_result"
    }
   ],
   "source": [
    "embedded_documents[0].keys()"
   ]
  },
  {
   "cell_type": "code",
   "execution_count": 82,
   "metadata": {},
   "outputs": [
    {
     "data": {
      "application/vnd.jupyter.widget-view+json": {
       "model_id": "95d87339f4e44fd69b99a7a4e57ecc20",
       "version_major": 2,
       "version_minor": 0
      },
      "text/plain": [
       "  0%|          | 0/375 [00:00<?, ?it/s]"
      ]
     },
     "metadata": {},
     "output_type": "display_data"
    }
   ],
   "source": [
    "for doc in tqdm(embedded_documents):\n",
    "    try:\n",
    "        es_client.index(index=index_name, document=doc)\n",
    "    except Exception as e:\n",
    "        print(e)"
   ]
  },
  {
   "cell_type": "code",
   "execution_count": 83,
   "metadata": {},
   "outputs": [],
   "source": [
    "es_query = {\n",
    "    \"field\" : \"qa_embedding\",\n",
    "    \"query_vector\" :  v,\n",
    "    \"k\" : 5,\n",
    "    \"num_candidates\" : 10000,\n",
    "}"
   ]
  },
  {
   "cell_type": "code",
   "execution_count": 84,
   "metadata": {},
   "outputs": [
    {
     "data": {
      "text/plain": [
       "'gpvNspABoFYOXg7pnNlp'"
      ]
     },
     "execution_count": 84,
     "metadata": {},
     "output_type": "execute_result"
    }
   ],
   "source": [
    "res = es_client.search(index=index_name, knn=es_query, source=[\"text\",\"section\",\"question\",\"course\"])\n",
    "res[\"hits\"][\"hits\"][0][\"_id\"]"
   ]
  },
  {
   "cell_type": "markdown",
   "metadata": {},
   "source": [
    "## Q6. Hit-rate for Elasticsearch\n",
    "\n",
    "The search engine we used in Q4 computed the similarity between\n",
    "the query and ALL the vectors in our database. Usually this is \n",
    "not practical, as we may have a lot of data.\n",
    "\n",
    "Elasticsearch uses approximate techniques to make it faster. \n",
    "\n",
    "Let's evaluate how worse the results are when we switch from\n",
    "exact search (as in Q4) to approximate search with Elastic.\n",
    "\n",
    "What's hitrate for our dataset for Elastic?\n",
    "\n",
    "* 0.93\n",
    "* 0.73\n",
    "* 0.53\n",
    "* 0.33"
   ]
  },
  {
   "cell_type": "code",
   "execution_count": 95,
   "metadata": {},
   "outputs": [],
   "source": [
    "def elasticsearch_evaluate(ground_truth, index_name, es_client):\n",
    "    cnt = 0\n",
    "\n",
    "    for q in tqdm(ground_truth):\n",
    "        question = q['question']\n",
    "        document = q['document']\n",
    "        question_vector = embedding_model.encode(question)\n",
    "        # Query\n",
    "        es_query = {\n",
    "            \"field\" : \"qa_embedding\",\n",
    "            \"query_vector\" : question_vector,\n",
    "            \"k\" : 5,\n",
    "            \"num_candidates\" : 10000,\n",
    "        }\n",
    "        result = es_client.search(index=index_name, knn=es_query, source=[\"text\", \"id\", \"section\", \"question\", \"course\"])\n",
    "        search_documents = [result['_source']['id'] for result in result[\"hits\"][\"hits\"]]\n",
    "\n",
    "        if document in search_documents:\n",
    "            cnt += 1\n",
    "\n",
    "    return {\n",
    "        'hit_rate': cnt / len(ground_truth)\n",
    "    }"
   ]
  },
  {
   "cell_type": "code",
   "execution_count": 96,
   "metadata": {},
   "outputs": [
    {
     "data": {
      "application/vnd.jupyter.widget-view+json": {
       "model_id": "9a6543a8cc1a41f4872c198aa3c93e1c",
       "version_major": 2,
       "version_minor": 0
      },
      "text/plain": [
       "  0%|          | 0/1830 [00:00<?, ?it/s]"
      ]
     },
     "metadata": {},
     "output_type": "display_data"
    },
    {
     "data": {
      "text/plain": [
       "{'hit_rate': 0.9398907103825137}"
      ]
     },
     "execution_count": 96,
     "metadata": {},
     "output_type": "execute_result"
    }
   ],
   "source": [
    "elasticsearch_evaluate(ground_truth, index_name, es_client)"
   ]
  }
 ],
 "metadata": {
  "kernelspec": {
   "display_name": "llm-zcamp",
   "language": "python",
   "name": "python3"
  },
  "language_info": {
   "codemirror_mode": {
    "name": "ipython",
    "version": 3
   },
   "file_extension": ".py",
   "mimetype": "text/x-python",
   "name": "python",
   "nbconvert_exporter": "python",
   "pygments_lexer": "ipython3",
   "version": "3.12.3"
  }
 },
 "nbformat": 4,
 "nbformat_minor": 2
}
